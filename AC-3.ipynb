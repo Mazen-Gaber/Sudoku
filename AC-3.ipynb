{
 "cells": [
  {
   "cell_type": "code",
   "execution_count": 1,
   "metadata": {},
   "outputs": [],
   "source": [
    "from collections import deque"
   ]
  },
  {
   "cell_type": "code",
   "execution_count": 13,
   "metadata": {},
   "outputs": [],
   "source": [
    "def ac3(csp, queue=None):\n",
    "    if queue is None: #if there's no queue provided, intialize one \n",
    "        queue = deque(csp.constraints)\n",
    "        \n",
    "    while queue:\n",
    "        (xi, xj) = queue.popleft()\n",
    "        if revise(csp, xi, xj):\n",
    "            if not csp.domains[xi]: #domain of xi is empty -> CSP inconsistent\n",
    "                return False\n",
    "            for xk in csp.neighbours[xi]:\n",
    "                if xk != xj: #enqueue the arc unless it is the reverse of the dequeued arc\n",
    "                    queue.append((xk, xi))\n",
    "    return True\n",
    "\n",
    "def revise(csp, xi, xj): #update the domain of variable xi based on constraints with xj\n",
    "    revised = False\n",
    "    for x in csp.domains[xi]:\n",
    "        if not any(csp.constraint(x,y) for y in csp.domains[xj]):\n",
    "            csp.domains[xi].remove(x)\n",
    "            revised = True\n",
    "    return revised"
   ]
  },
  {
   "cell_type": "code",
   "execution_count": 9,
   "metadata": {},
   "outputs": [],
   "source": [
    "class CSP:\n",
    "    def __init__(self, variables, domains, constraints):\n",
    "        self.variables = variables\n",
    "        self. domains = domains\n",
    "        self.constraints = constraints\n",
    "        self.neighbours = {var: [] for var in variables}\n",
    "        self.build_neighbours()\n",
    "        \n",
    "    def build_neighbours(self):\n",
    "        for (var1, var2) in self.constraints:\n",
    "            self.neighbours[var1].append(var2)\n",
    "            self.neighbours[var2].append(var1)\n",
    "            \n",
    "    def constraint(self, xi, xj):\n",
    "        #here we define the constraint function for e.g.:\n",
    "        return xi * 2 == xj or xj * 2 == xi"
   ]
  },
  {
   "cell_type": "code",
   "execution_count": 14,
   "metadata": {},
   "outputs": [
    {
     "name": "stdout",
     "output_type": "stream",
     "text": [
      "Before AC-3\n",
      "Domains:  {'A': [1, 2, 3], 'B': [1, 2, 3], 'C': [1, 2, 3]}\n",
      "\n",
      "After AC-3:\n",
      "Domains:  {'A': [1, 2], 'B': [1, 2], 'C': [1, 2, 3]}\n"
     ]
    }
   ],
   "source": [
    "#EXAMPLE\n",
    "\n",
    "variables = ['A', 'B', 'C']\n",
    "domains = {'A': [1, 2, 3], 'B': [1, 2, 3], 'C': [1, 2, 3]}\n",
    "constraints = [('A', 'B'), ('B', 'C')]\n",
    "\n",
    "csp = CSP(variables, domains, constraints)\n",
    "\n",
    "print(\"Before AC-3\")\n",
    "print(\"Domains: \", csp.domains)\n",
    "\n",
    "ac3(csp)\n",
    "\n",
    "print(\"\\nAfter AC-3:\")\n",
    "print(\"Domains: \", csp.domains)"
   ]
  }
 ],
 "metadata": {
  "kernelspec": {
   "display_name": "Python 3",
   "language": "python",
   "name": "python3"
  },
  "language_info": {
   "codemirror_mode": {
    "name": "ipython",
    "version": 3
   },
   "file_extension": ".py",
   "mimetype": "text/x-python",
   "name": "python",
   "nbconvert_exporter": "python",
   "pygments_lexer": "ipython3",
   "version": "3.9.13"
  }
 },
 "nbformat": 4,
 "nbformat_minor": 2
}
